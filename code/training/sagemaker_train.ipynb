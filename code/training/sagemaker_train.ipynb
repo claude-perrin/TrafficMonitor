{
 "cells": [
  {
   "cell_type": "code",
   "execution_count": null,
   "metadata": {},
   "outputs": [],
   "source": [
    "import sagemaker\n",
    "\n",
    "sagemaker_session = sagemaker.Session()\n",
    "region = sagemaker_session.boto_region_name\n",
    "\n",
    "bucket = sagemaker_session.default_bucket()\n",
    "prefix = \"sagemaker/dataset\"\n",
    "\n",
    "# role = \"arn:aws:iam::235411143540:role/SageMakerRole\"# claude_perrin_3\n",
    "# role = \"arn:aws:iam::146258905784:role/SageMakerRole\"# claude_perrin_5\n",
    "role = \"arn:aws:iam::224769526787:role/SageMakerRole\"# claude_perrin_9\n",
    "\n",
    "print(bucket)"
   ]
  },
  {
   "cell_type": "code",
   "execution_count": null,
   "metadata": {},
   "outputs": [],
   "source": [
    "# inputs = sagemaker_session.upload_data(path=\"saved_dataset\", bucket=bucket, key_prefix=prefix)\n",
    "# print(\"input spec (in this case, just an S3 path): {}\".format(inputs))\n",
    "# Train set and Test set\n",
    "# common_bucket_name = \"s3://sagemaker-eu-central-1-235411143540\"\n",
    "# train = (f\"{common_bucket_name}/train_directory\")\n",
    "# test = (f\"{common_bucket_name}/test_dir\" )\n",
    "\n",
    "common_bucket_name = f\"s3://{bucket}\"\n",
    "\n",
    "# train = (f\"{common_bucket_name}/crop_train_set\")\n",
    "# test = (f\"{common_bucket_name}/crop_test_set\")\n",
    "train = (f\"{common_bucket_name}/train_set\")\n",
    "train = (f\"{common_bucket_name}/cropped_train\")\n",
    "test = (f\"{common_bucket_name}/cropped_train\")\n",
    "print(train,'\\n',test)"
   ]
  },
  {
   "cell_type": "code",
   "execution_count": null,
   "metadata": {},
   "outputs": [],
   "source": [
    "!pygmentize code/faster_rcnn.py\n"
   ]
  },
  {
   "cell_type": "code",
   "execution_count": null,
   "metadata": {},
   "outputs": [],
   "source": [
    "from sagemaker.pytorch import PyTorch\n",
    "instance_count = 2\n",
    "if instance_count > 1:\n",
    "    distribution={\"torch_distributed\": {\"enabled\": True}} #torch_distributed\n",
    "else:\n",
    "    distribution = None\n",
    "\n",
    "estimator = PyTorch(\n",
    "    entry_point=\"train.py\",\n",
    "    source_dir='.',        # Directory where your source code is located\n",
    "    role=role,\n",
    "    py_version=\"py310\",\n",
    "    framework_version=\"2.0.1\",\n",
    "    instance_count=instance_count,\n",
    "    # distribution=distribution,\n",
    "    instance_type=\"ml.m4.xlarge\", # ml.g4dn.xlarge ml.m4.xlarge\t\n",
    "    hyperparameters={\"epochs\": 2, \"backend\": \"gloo\"},\n",
    ")\n"
   ]
  },
  {
   "cell_type": "code",
   "execution_count": null,
   "metadata": {},
   "outputs": [],
   "source": [
    "estimator.fit({\"train\": train, \"test\": test})\n"
   ]
  },
  {
   "cell_type": "code",
   "execution_count": null,
   "metadata": {},
   "outputs": [],
   "source": [
    "predictor = estimator.deploy(initial_instance_count=1, instance_type=\"ml.m4.xlarge\")\n"
   ]
  },
  {
   "cell_type": "code",
   "execution_count": null,
   "metadata": {},
   "outputs": [],
   "source": [
    "import gzip\n",
    "import numpy as np\n",
    "import random\n",
    "import os\n",
    "\n",
    "data_dir = \"data/MNIST/raw\"\n",
    "with gzip.open(os.path.join(data_dir, \"t10k-images-idx3-ubyte.gz\"), \"rb\") as f:\n",
    "    images = np.frombuffer(f.read(), np.uint8, offset=16).reshape(-1, 28, 28).astype(np.float32)\n",
    "\n",
    "mask = random.sample(range(len(images)), 16)  # randomly select some of the test images\n",
    "mask = np.array(mask, dtype=np.int32)\n",
    "data = images[mask]\n"
   ]
  },
  {
   "cell_type": "code",
   "execution_count": null,
   "metadata": {},
   "outputs": [],
   "source": [
    "response = predictor.predict(np.expand_dims(data, axis=1))\n",
    "print(\"Raw prediction result:\")\n",
    "print(response)\n",
    "print()\n",
    "\n",
    "labeled_predictions = list(zip(range(10), response[0]))\n",
    "print(\"Labeled predictions: \")\n",
    "print(labeled_predictions)\n",
    "print()\n",
    "\n",
    "labeled_predictions.sort(key=lambda label_and_prob: 1.0 - label_and_prob[1])\n",
    "print(\"Most likely answer: {}\".format(labeled_predictions[0]))\n"
   ]
  },
  {
   "cell_type": "code",
   "execution_count": null,
   "metadata": {},
   "outputs": [],
   "source": [
    "sagemaker_session.delete_endpoint(endpoint_name=predictor.endpoint_name)\n"
   ]
  }
 ],
 "metadata": {
  "kernelspec": {
   "display_name": "mlp",
   "language": "python",
   "name": "python3"
  },
  "language_info": {
   "codemirror_mode": {
    "name": "ipython",
    "version": 3
   },
   "file_extension": ".py",
   "mimetype": "text/x-python",
   "name": "python",
   "nbconvert_exporter": "python",
   "pygments_lexer": "ipython3",
   "version": "3.10.12"
  }
 },
 "nbformat": 4,
 "nbformat_minor": 2
}
